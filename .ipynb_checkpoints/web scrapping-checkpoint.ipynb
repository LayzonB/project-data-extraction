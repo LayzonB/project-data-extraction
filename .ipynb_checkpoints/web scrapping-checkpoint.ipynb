{
 "cells": [
  {
   "cell_type": "code",
   "execution_count": 18,
   "metadata": {},
   "outputs": [
    {
     "data": {
      "text/plain": [
       "[<div class=\"card-title name text-left\">Weber 721001 Smokey Mountain Cooker 18-Inch Charcoal Smoker</div>,\n",
       " <div class=\"card-title name text-left\">Weber 731001 Smokey Mountain Cooker 22-Inch Charcoal Smoker</div>,\n",
       " <div class=\"card-title name text-left\">Smokin Tex Pro Series Residential BBQ Electric Smoker - 1400</div>,\n",
       " <div class=\"card-title name text-left\">Weber 711001 Smokey Mountain Cooker 14-Inch Charcoal Smoker</div>,\n",
       " <div class=\"card-title name text-left\">Cookshack SuperSmoker SM045 Electric Smoker</div>,\n",
       " <div class=\"card-title name text-left\">Smokin Tex Commercial BBQ Electric Smoker 1500-C</div>,\n",
       " <div class=\"card-title name text-left\">The Original Orion Cooker 19-Inch Charcoal Smoker - OCC101</div>,\n",
       " <div class=\"card-title name text-left\">Texas Original Pits Luling 20x42x22 Single Lid Offset Smoker - 250-SL204222</div>,\n",
       " <div class=\"card-title name text-left\">Camp Chef XXL WiFi Vertical Pellet Smoker - PGVXXLC</div>,\n",
       " <div class=\"card-title name text-left\">Cookshack Amerique SM066 Electric Smoker</div>,\n",
       " <div class=\"card-title name text-left\">Texas Original Pits Luling Loaded 20x42x22 Single Lid Offset Smoker W/ Counter Weight - 25...</div>,\n",
       " <div class=\"card-title name text-left\">Smokin Tex Pro Series BBQ Electric Smoker 1500</div>,\n",
       " <div class=\"card-title name text-left\">Cajun Grill Combeaux 36-Inch Built-In Stainless Steel Vertical Offset Charcoal Smoker - PG...</div>,\n",
       " <div class=\"card-title name text-left\">Cuisinart 36-Inch Vertical Propane Smoker - COS-244</div>,\n",
       " <div class=\"card-title name text-left\">Texas Original Pits Luling 16x36x18 Single Lid Offset Smoker - 187-SL-163618</div>,\n",
       " <div class=\"card-title name text-left\">Texas Original Pits Luling 24x48x24 Single Lid Offset Smoker - 250-SL244824</div>,\n",
       " <div class=\"card-title name text-left\">Backwoods Chubby 3400 Vertical Charcoal Smoker - LVPBSCH3400</div>,\n",
       " <div class=\"card-title name text-left\">Camp Chef 24-Inch Smoke Vault Propane Gas Smoker</div>,\n",
       " <div class=\"card-title name text-left\">Cookshack Smokette Elite SM025 Electric Smoker</div>,\n",
       " <div class=\"card-title name text-left\">Pit Boss 77700 Copperhead 7 Series 29-inch Vertical Pellet Smoker w/ Window</div>,\n",
       " <div class=\"card-title name text-left\">Pit Boss 77232 Silver Star 3 Series 21-Inch Vertical Digital Electric Smoker w/ Window</div>,\n",
       " <div class=\"card-title name text-left\">Pit Boss 77350 Copperhead 3 Series 25-Inch Vertical Pellet Smoker w/ Window</div>,\n",
       " <div class=\"card-title name text-left\">Texas Original Pits Pearsal 20x54x40x22 Vertical Offset Smoker - 250-SL20544022</div>,\n",
       " <div class=\"card-title name text-left\">Texas Original Pits Pearsal 16x48x40x22 Fully Loaded Vertical Offset Smoker W/ Counter Weight...</div>,\n",
       " <div class=\"card-title name text-left\">Texas Original Pits Pearsal 16x48x40x22 Vertical Offset Smoker - 250-SL16484022</div>,\n",
       " <div class=\"card-title name text-left\">Cookshack Smokette Original SM009-2 Electric Smoker</div>,\n",
       " <div class=\"card-title name text-left\">Smokin Tex BBQ Electric Smoker 1100</div>,\n",
       " <div class=\"card-title name text-left\">Broil King Smoke 28-Inch Vertical Charcoal Smoker - Black</div>,\n",
       " <div class=\"card-title name text-left\">Gateway Drum Smokers 55 Gallon Charcoal BBQ Smoker - Matte Black - 559FB</div>,\n",
       " <div class=\"card-title name text-left\">Camp Chef 18-Inch Smoke Vault Propane Gas Smoker</div>,\n",
       " <div class=\"card-title name text-left\">Pit Boss 77220 Blue Blazing 2 Series 21-Inch Vertical Analog Electric Smoker w/ Window</div>,\n",
       " <div class=\"card-title name text-left\">Americana by Meco 2 In 1 Electric Water Smoker Grill</div>,\n",
       " <div class=\"card-title name text-left\">Broil King Smoke XL 32-Inch Offset Charcoal Smoker - Black</div>,\n",
       " <div class=\"card-title name text-left\">Gateway Drum Smokers 55 Gallon Charcoal BBQ Smoker - Red - 55133</div>,\n",
       " <div class=\"card-title name text-left\">Lynx Sonoma 30-Inch Stainless Steel Built-In/Countertop Propane Gas Smart Smoker - LSMK-LP</div>,\n",
       " <div class=\"card-title name text-left\">Masterbuilt MWS 340B Pellet Smoker - MB20250118</div>,\n",
       " <div class=\"card-title name text-left\">Napoleon Apollo 200 3-In-1 16-Inch Charcoal Smoker And Grill - AS200K-2</div>,\n",
       " <div class=\"card-title name text-left\">Napoleon Apollo 300 3-In-1 19-Inch Charcoal Smoker And Grill - AS300K-2</div>,\n",
       " <div class=\"card-title name text-left\">Gateway Drum Smokers 55 Gallon Charcoal BBQ Smoker - Matte Charcoal - 559FC</div>,\n",
       " <div class=\"card-title name text-left\">Lynx Sonoma 30-Inch Stainless Steel Freestanding Propane Gas Smart Smoker - LSMKF-LP</div>,\n",
       " <div class=\"card-title name text-left\"></div>,\n",
       " <div class=\"card-title name text-left\"></div>]"
      ]
     },
     "execution_count": 18,
     "metadata": {},
     "output_type": "execute_result"
    }
   ],
   "source": [
    "import requests\n",
    "from bs4 import BeautifulSoup\n",
    "import pandas as pd\n",
    "\n",
    "url = \"https://www.bbqguys.com/bbq-grills-smokers/bbq-smokers?start=1\"\n",
    "html = requests.get(url).content\n",
    "soup = BeautifulSoup(html, \"lxml\")\n",
    "tra = soup.find_all(\"div\", {\"class\": \"items-grid-body grid num-cols-4 grid-bordered-inner grid-view\"})\n",
    "tra = soup.find_all(\"div\", {\"class\": \"card-title name text-left\"})\n",
    "tra"
   ]
  },
  {
   "cell_type": "code",
   "execution_count": 23,
   "metadata": {},
   "outputs": [
    {
     "data": {
      "text/plain": [
       "42"
      ]
     },
     "execution_count": 23,
     "metadata": {},
     "output_type": "execute_result"
    }
   ],
   "source": [
    "products_name = [element.text.strip() for element in tra]\n",
    "len(products_name)"
   ]
  },
  {
   "cell_type": "code",
   "execution_count": 26,
   "metadata": {},
   "outputs": [
    {
     "data": {
      "text/plain": [
       "42"
      ]
     },
     "execution_count": 26,
     "metadata": {},
     "output_type": "execute_result"
    }
   ],
   "source": [
    "prices = soup.find_all(\"div\", {\"class\": \"price-current\"})\n",
    "len(prices)"
   ]
  },
  {
   "cell_type": "code",
   "execution_count": 27,
   "metadata": {},
   "outputs": [
    {
     "data": {
      "text/plain": [
       "[<code class=\"item-id\">#432</code>,\n",
       " <code class=\"item-id\">#2253681</code>,\n",
       " <code class=\"item-id\">#1530808</code>,\n",
       " <code class=\"item-id\">#2876974</code>,\n",
       " <code class=\"item-id\">#2512311</code>,\n",
       " <code class=\"item-id\">#1530811</code>,\n",
       " <code class=\"item-id\">#3061850</code>,\n",
       " <code class=\"item-id\">#3071374</code>,\n",
       " <code class=\"item-id\">#3070993</code>,\n",
       " <code class=\"item-id\">#2121460</code>,\n",
       " <code class=\"item-id\">#3071377</code>,\n",
       " <code class=\"item-id\">#2560654</code>,\n",
       " <code class=\"item-id\">#3059921</code>,\n",
       " <code class=\"item-id\">#2938811</code>,\n",
       " <code class=\"item-id\">#3071686</code>,\n",
       " <code class=\"item-id\">#3071380</code>,\n",
       " <code class=\"item-id\">#3047199</code>,\n",
       " <code class=\"item-id\">#2885962</code>,\n",
       " <code class=\"item-id\">#2512310</code>,\n",
       " <code class=\"item-id\">#2999709</code>,\n",
       " <code class=\"item-id\">#2999700</code>,\n",
       " <code class=\"item-id\">#2999703</code>,\n",
       " <code class=\"item-id\">#3071611</code>,\n",
       " <code class=\"item-id\">#3071614</code>,\n",
       " <code class=\"item-id\">#3071608</code>,\n",
       " <code class=\"item-id\">#2887742</code>,\n",
       " <code class=\"item-id\">#2729222</code>,\n",
       " <code class=\"item-id\">#2957028</code>,\n",
       " <code class=\"item-id\">#3049872</code>,\n",
       " <code class=\"item-id\">#2885960</code>,\n",
       " <code class=\"item-id\">#2999691</code>,\n",
       " <code class=\"item-id\">#2961753</code>,\n",
       " <code class=\"item-id\">#2957019</code>,\n",
       " <code class=\"item-id\">#2968576</code>,\n",
       " <code class=\"item-id\">#2964519</code>,\n",
       " <code class=\"item-id\">#3016890</code>,\n",
       " <code class=\"item-id\">#3068609</code>,\n",
       " <code class=\"item-id\">#3068606</code>,\n",
       " <code class=\"item-id\">#3054378</code>,\n",
       " <code class=\"item-id\">#2964525</code>]"
      ]
     },
     "execution_count": 27,
     "metadata": {},
     "output_type": "execute_result"
    }
   ],
   "source": [
    "codigo = soup.find_all(\"code\", {\"class\": \"item-id\"})\n",
    "codigo"
   ]
  },
  {
   "cell_type": "code",
   "execution_count": null,
   "metadata": {},
   "outputs": [],
   "source": [
    "#luego de contar los elementos podemos hacer un loop que busque paginas y cuente los productos en ella\n"
   ]
  }
 ],
 "metadata": {
  "kernelspec": {
   "display_name": "Python 3",
   "language": "python",
   "name": "python3"
  },
  "language_info": {
   "codemirror_mode": {
    "name": "ipython",
    "version": 3
   },
   "file_extension": ".py",
   "mimetype": "text/x-python",
   "name": "python",
   "nbconvert_exporter": "python",
   "pygments_lexer": "ipython3",
   "version": "3.8.3"
  }
 },
 "nbformat": 4,
 "nbformat_minor": 4
}
